{
 "cells": [
  {
   "cell_type": "code",
   "execution_count": 1,
   "metadata": {},
   "outputs": [
    {
     "name": "stdout",
     "output_type": "stream",
     "text": [
      "Activated indices: (tensor([0, 0, 0]), tensor([1, 2, 4]))\n"
     ]
    }
   ],
   "source": [
    "import torch\n",
    "import torch.nn as nn\n",
    "\n",
    "# Define a hook function to capture the activations\n",
    "def relu_hook(module, input, output):\n",
    "    # input is a tuple of inputs to the module, output is the module's output\n",
    "    activated_indices = torch.where(output > 0)\n",
    "    print(f\"Activated indices: {activated_indices}\")\n",
    "\n",
    "# Create a simple model with ReLU\n",
    "model = nn.Sequential(\n",
    "    nn.Linear(5, 5),\n",
    "    nn.ReLU(),\n",
    "    nn.Linear(5, 2)\n",
    ")\n",
    "\n",
    "# Register the hook to the ReLU layer\n",
    "relu_layer = model[1]  # Assuming ReLU is the second layer in the model\n",
    "hook = relu_layer.register_forward_hook(relu_hook)\n",
    "\n",
    "# Test input\n",
    "x = torch.tensor([[1.0, -1.0, 0.5, -0.5, 2.0]])\n",
    "\n",
    "# Forward pass\n",
    "output = model(x)\n",
    "\n",
    "# Remove the hook when done\n",
    "hook.remove()\n"
   ]
  }
 ],
 "metadata": {
  "kernelspec": {
   "display_name": "Python 3",
   "language": "python",
   "name": "python3"
  },
  "language_info": {
   "codemirror_mode": {
    "name": "ipython",
    "version": 3
   },
   "file_extension": ".py",
   "mimetype": "text/x-python",
   "name": "python",
   "nbconvert_exporter": "python",
   "pygments_lexer": "ipython3",
   "version": "3.8.19"
  }
 },
 "nbformat": 4,
 "nbformat_minor": 2
}
