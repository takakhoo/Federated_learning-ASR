{
 "cells": [
  {
   "cell_type": "code",
   "execution_count": 32,
   "metadata": {},
   "outputs": [],
   "source": [
    "import os\n"
   ]
  },
  {
   "cell_type": "code",
   "execution_count": 39,
   "metadata": {},
   "outputs": [],
   "source": [
    "\n",
    "# put above lines into a torch dataset that take file_path as init argument\n",
    "import torch\n",
    "import soundfile\n",
    "from torch.utils.data import Dataset\n",
    "class LibriSampledDataset(Dataset):\n",
    "    '''\n",
    "    600 samples of Libri test set\n",
    "    '''\n",
    "    def __init__(self, file_path, min_length=0, max_length=100000, transform=None, target_transform=None):\n",
    "        with open(file_path) as f:\n",
    "            lines = f.read().strip().split('\\n')\n",
    "        lines = lines\n",
    "        lines = [l.split(',') for l in lines]\n",
    "        lines = sorted(lines, key=lambda l: int(l[1]))\n",
    "        lines = [l[0] for l in lines if min_length <= int(l[1]) < max_length]\n",
    "\n",
    "        self.lines = lines\n",
    "        self.utts = []\n",
    "        for fn  in lines:\n",
    "            self.utts.append(open(os.path.join('/scratch/f006pq6/datasets/.deep-speaker-wd/samples_deepspeaker/samples/librispeech/single', '%s.csv' % fn)).read().strip().split('\\n')[-1])\n",
    "        self.max_length = max(len(l.split(',')[-1]) for l in self.utts)\n",
    "\n",
    "        self._transform = transform\n",
    "        self._target_transform = target_transform\n",
    "\n",
    "\n",
    "\n",
    "    def __len__(self):\n",
    "        return len(self.utts)\n",
    "\n",
    "    def __getitem__(self, index):\n",
    "        # utts[idx] give path, duration, transcript seperated by comma\n",
    "\n",
    "        path, dur, target= self.utts[index].split(',') #target is transcript\n",
    "        audio, rate = soundfile.read(path, dtype='int16')\n",
    "        assert rate == 16000, '%r sample rate != 16000' % path\n",
    "\n",
    "        if self._transform is not None:\n",
    "            audio = self._transform(audio)\n",
    "\n",
    "        if self._target_transform is not None:\n",
    "            target = self._target_transform(target)\n",
    "\n",
    "        return audio, target, path \n",
    "       \n",
    "file_path = '../samples/samples_below_4s_bucket_500_all_minh.txt'\n",
    "my_dataset = LibriSampledDataset(file_path, min_length=2000, max_length=3000)\n",
    "\n"
   ]
  },
  {
   "cell_type": "code",
   "execution_count": 46,
   "metadata": {},
   "outputs": [
    {
     "data": {
      "text/plain": [
       "(array([25, 41, 60, ..., 44, 33, 77], dtype=int16),\n",
       " 'the walls of the houses were wet')"
      ]
     },
     "execution_count": 46,
     "metadata": {},
     "output_type": "execute_result"
    }
   ],
   "source": [
    "my_dataset[6]"
   ]
  },
  {
   "cell_type": "code",
   "execution_count": null,
   "metadata": {},
   "outputs": [],
   "source": []
  }
 ],
 "metadata": {
  "kernelspec": {
   "display_name": "asr-grad-reconstructoin",
   "language": "python",
   "name": "python3"
  },
  "language_info": {
   "codemirror_mode": {
    "name": "ipython",
    "version": 3
   },
   "file_extension": ".py",
   "mimetype": "text/x-python",
   "name": "python",
   "nbconvert_exporter": "python",
   "pygments_lexer": "ipython3",
   "version": "3.8.19"
  }
 },
 "nbformat": 4,
 "nbformat_minor": 2
}
